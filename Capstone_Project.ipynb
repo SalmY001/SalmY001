{
 "cells": [
  {
   "cell_type": "markdown",
   "id": "1efd4eb2-de72-4243-8d28-d55a4dfd91b6",
   "metadata": {},
   "source": [
    "## Notebook for Applied Data Science Capstone Project"
   ]
  },
  {
   "cell_type": "code",
   "execution_count": 1,
   "id": "4b6e08ac-68ea-4cb9-b4ed-05cc0da2b8cd",
   "metadata": {},
   "outputs": [],
   "source": [
    "import pandas as pd"
   ]
  },
  {
   "cell_type": "code",
   "execution_count": 3,
   "id": "9c9d914a-4313-4103-8d8c-df0b24fdd772",
   "metadata": {},
   "outputs": [],
   "source": [
    "import numpy as np"
   ]
  },
  {
   "cell_type": "code",
   "execution_count": 11,
   "id": "5195beb7-6e14-44d6-bb1d-91b4f4f98694",
   "metadata": {},
   "outputs": [
    {
     "name": "stdout",
     "output_type": "stream",
     "text": [
      "Hello Capstone Project Course!\n"
     ]
    }
   ],
   "source": [
    "print (\"Hello Capstone Project Course!\")"
   ]
  }
 ],
 "metadata": {
  "kernelspec": {
   "display_name": "Python",
   "language": "python",
   "name": "conda-env-python-py"
  },
  "language_info": {
   "codemirror_mode": {
    "name": "ipython",
    "version": 3
   },
   "file_extension": ".py",
   "mimetype": "text/x-python",
   "name": "python",
   "nbconvert_exporter": "python",
   "pygments_lexer": "ipython3",
   "version": "3.6.13"
  }
 },
 "nbformat": 4,
 "nbformat_minor": 5
}
